{
 "cells": [
  {
   "cell_type": "code",
   "execution_count": 13,
   "metadata": {},
   "outputs": [],
   "source": [
    "import tensorflow as tf\n",
    "from tensorflow.keras.optimizers import RMSprop\n",
    "from tensorflow.keras.preprocessing.image import ImageDataGenerator\n",
    "import os\n",
    "import zipfile\n",
    "from os import path, getcwd, chdir"
   ]
  },
  {
   "cell_type": "code",
   "execution_count": 2,
   "metadata": {},
   "outputs": [
    {
     "name": "stdout",
     "output_type": "stream",
     "text": [
      "--2020-04-06 09:58:38--  https://storage.googleapis.com/laurencemoroney-blog.appspot.com/happy-or-sad.zip\n",
      "Resolving storage.googleapis.com (storage.googleapis.com)... 172.217.26.16, 2404:6800:4004:813::2010\n",
      "Connecting to storage.googleapis.com (storage.googleapis.com)|172.217.26.16|:443... connected.\n",
      "HTTP request sent, awaiting response... 200 OK\n",
      "Length: 2670333 (2.5M) [application/zip]\n",
      "Saving to: ‘/tmp/happy-or-sad.zip’\n",
      "\n",
      "/tmp/happy-or-sad.z 100%[===================>]   2.55M  6.89MB/s    in 0.4s    \n",
      "\n",
      "2020-04-06 09:58:39 (6.89 MB/s) - ‘/tmp/happy-or-sad.zip’ saved [2670333/2670333]\n",
      "\n"
     ]
    }
   ],
   "source": [
    "!wget --no-check-certificate \\\n",
    "    \"https://storage.googleapis.com/laurencemoroney-blog.appspot.com/happy-or-sad.zip\" \\\n",
    "    -O \"/tmp/happy-or-sad.zip\""
   ]
  },
  {
   "cell_type": "code",
   "execution_count": 16,
   "metadata": {},
   "outputs": [],
   "source": [
    "zip_ref = zipfile.ZipFile(\"/tmp/happy-or-sad.zip\", 'r')\n",
    "zip_ref.extractall(\"/tmp/happy-or-sad\")\n",
    "zip_ref.close()"
   ]
  },
  {
   "cell_type": "code",
   "execution_count": 33,
   "metadata": {},
   "outputs": [],
   "source": [
    "def train_happy_sad_model():\n",
    "    DESIRED_ACCURACY = 0.999\n",
    "\n",
    "    class myCallback(tf.keras.callbacks.Callback):\n",
    "        def on_epoch_end(self, epoch, logs={}):\n",
    "            if( logs.get('acc') >= DESIRED_ACCURACY):\n",
    "                self.model.stop_training = True\n",
    "\n",
    "    callbacks = myCallback()\n",
    "    \n",
    "    model = tf.keras.models.Sequential([\n",
    "        tf.keras.layers.Conv2D(16, (3,3), activation='relu', input_shape=(150,150,3)),\n",
    "        tf.keras.layers.MaxPooling2D(2,2),\n",
    "        tf.keras.layers.Conv2D(32, (3,3), activation='relu'),\n",
    "        tf.keras.layers.MaxPooling2D(2,2),\n",
    "        tf.keras.layers.Conv2D(64, (3,3), activation='relu'),\n",
    "        tf.keras.layers.MaxPooling2D(2,2),\n",
    "        tf.keras.layers.Flatten(),\n",
    "        tf.keras.layers.Dense(512,activation='relu'),\n",
    "        tf.keras.layers.Dense(1, activation='softmax'),\n",
    "    ])\n",
    "    \n",
    "    model.compile(loss='binary_crossentropy',optimizer=RMSprop(lr=0.001),metrics=['acc'])\n",
    "    \n",
    "    train_datagen = ImageDataGenerator(rescale=1/255)\n",
    "    train_generator = train_datagen.flow_from_directory(\n",
    "        '/tmp/h-or-s',\n",
    "        target_size=(150,150),\n",
    "        batch_size=15,\n",
    "        class_mode='binary')\n",
    "    \n",
    "    history = model.fit_generator(\n",
    "      train_generator,\n",
    "      steps_per_epoch=5,  \n",
    "      epochs=20,\n",
    "      verbose=1,callbacks=[callbacks])\n",
    "    \n",
    "    return history.history['acc'][-1]"
   ]
  },
  {
   "cell_type": "code",
   "execution_count": 34,
   "metadata": {},
   "outputs": [
    {
     "name": "stdout",
     "output_type": "stream",
     "text": [
      "Found 80 images belonging to 2 classes.\n",
      "WARNING:tensorflow:sample_weight modes were coerced from\n",
      "  ...\n",
      "    to  \n",
      "  ['...']\n",
      "Train for 5 steps\n",
      "Epoch 1/20\n",
      "5/5 [==============================] - 1s 112ms/step - loss: 7.5230 - acc: 0.5067\n",
      "Epoch 2/20\n",
      "5/5 [==============================] - 0s 23ms/step - loss: 7.8983 - acc: 0.4923\n",
      "Epoch 3/20\n",
      "5/5 [==============================] - 0s 22ms/step - loss: 7.6898 - acc: 0.5077\n",
      "Epoch 4/20\n",
      "5/5 [==============================] - 0s 24ms/step - loss: 7.5230 - acc: 0.5067\n",
      "Epoch 5/20\n",
      "5/5 [==============================] - 0s 25ms/step - loss: 8.1069 - acc: 0.4769\n",
      "Epoch 6/20\n",
      "5/5 [==============================] - 0s 23ms/step - loss: 8.1069 - acc: 0.4769\n",
      "Epoch 7/20\n",
      "5/5 [==============================] - 0s 21ms/step - loss: 7.8983 - acc: 0.4923\n",
      "Epoch 8/20\n",
      "5/5 [==============================] - 0s 24ms/step - loss: 7.6898 - acc: 0.5077\n",
      "Epoch 9/20\n",
      "5/5 [==============================] - 0s 23ms/step - loss: 7.6898 - acc: 0.5077\n",
      "Epoch 10/20\n",
      "5/5 [==============================] - 0s 26ms/step - loss: 7.6898 - acc: 0.5077\n",
      "Epoch 11/20\n",
      "5/5 [==============================] - 0s 25ms/step - loss: 8.1069 - acc: 0.4769\n",
      "Epoch 12/20\n",
      "5/5 [==============================] - 0s 21ms/step - loss: 8.1069 - acc: 0.4769\n",
      "Epoch 13/20\n",
      "5/5 [==============================] - 0s 24ms/step - loss: 7.6898 - acc: 0.5077\n",
      "Epoch 14/20\n",
      "5/5 [==============================] - 0s 23ms/step - loss: 7.6898 - acc: 0.5077\n",
      "Epoch 15/20\n",
      "5/5 [==============================] - 0s 26ms/step - loss: 7.8983 - acc: 0.4923\n",
      "Epoch 16/20\n",
      "5/5 [==============================] - 0s 24ms/step - loss: 7.6898 - acc: 0.5077\n",
      "Epoch 17/20\n",
      "5/5 [==============================] - 0s 23ms/step - loss: 7.5230 - acc: 0.5067\n",
      "Epoch 18/20\n",
      "5/5 [==============================] - 0s 22ms/step - loss: 7.6898 - acc: 0.5077\n",
      "Epoch 19/20\n",
      "5/5 [==============================] - 0s 23ms/step - loss: 7.6898 - acc: 0.5077\n",
      "Epoch 20/20\n",
      "5/5 [==============================] - 0s 21ms/step - loss: 7.6898 - acc: 0.5077\n"
     ]
    },
    {
     "data": {
      "text/plain": [
       "0.50769234"
      ]
     },
     "execution_count": 34,
     "metadata": {},
     "output_type": "execute_result"
    }
   ],
   "source": [
    "train_happy_sad_model()"
   ]
  },
  {
   "cell_type": "code",
   "execution_count": null,
   "metadata": {},
   "outputs": [],
   "source": []
  }
 ],
 "metadata": {
  "kernelspec": {
   "display_name": "Python 3",
   "language": "python",
   "name": "python3"
  },
  "language_info": {
   "codemirror_mode": {
    "name": "ipython",
    "version": 3
   },
   "file_extension": ".py",
   "mimetype": "text/x-python",
   "name": "python",
   "nbconvert_exporter": "python",
   "pygments_lexer": "ipython3",
   "version": "3.6.9"
  }
 },
 "nbformat": 4,
 "nbformat_minor": 4
}
