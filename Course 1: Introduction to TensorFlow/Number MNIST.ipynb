{
 "cells": [
  {
   "cell_type": "code",
   "execution_count": 1,
   "metadata": {},
   "outputs": [],
   "source": [
    "import tensorflow as tf\n",
    "import numpy as np\n",
    "from os import path, getcwd, chdir"
   ]
  },
  {
   "cell_type": "code",
   "execution_count": 4,
   "metadata": {},
   "outputs": [],
   "source": [
    "def train_mnist():\n",
    "    class myCallback(tf.keras.callbacks.Callback):\n",
    "        def on_epoch_end(self, epoch, logs={}):\n",
    "            if(logs.get('accuracy')>=0.99):\n",
    "                print('\\nAccuracy 99% or above. Training cancelled')\n",
    "                self.model.stop_training = True\n",
    "    \n",
    "                \n",
    "    callbacks = myCallback()\n",
    "    \n",
    "    mnist = tf.keras.datasets.mnist\n",
    "    (xTrain, yTrain),(xTest,yTest) = mnist.load_data()\n",
    "       \n",
    "    xTrain = xTrain / 255.0\n",
    "    xTest = xTest / 255.0\n",
    "    \n",
    "    model = tf.keras.models.Sequential([\n",
    "        tf.keras.layers.Flatten(input_shape=(28,28)),\n",
    "        tf.keras.layers.Dense(1024, activation=tf.nn.relu),\n",
    "        tf.keras.layers.Dense(10,activation=tf.nn.softmax)\n",
    "    ])\n",
    "    \n",
    "    model.compile(optimizer = tf.keras.optimizers.Adam(),\n",
    "              loss = 'sparse_categorical_crossentropy',\n",
    "              metrics=['accuracy'])\n",
    "    \n",
    "    history = model.fit(xTrain, yTrain, epochs=20, callbacks=[callbacks])\n",
    "    \n",
    "    return history.epoch, history.history['accuracy'][-1]"
   ]
  },
  {
   "cell_type": "code",
   "execution_count": 5,
   "metadata": {},
   "outputs": [
    {
     "name": "stdout",
     "output_type": "stream",
     "text": [
      "Train on 60000 samples\n",
      "Epoch 1/20\n",
      "60000/60000 [==============================] - 4s 73us/sample - loss: 0.1853 - accuracy: 0.9445\n",
      "Epoch 2/20\n",
      "60000/60000 [==============================] - 4s 72us/sample - loss: 0.0751 - accuracy: 0.9763\n",
      "Epoch 3/20\n",
      "60000/60000 [==============================] - 4s 72us/sample - loss: 0.0494 - accuracy: 0.9840\n",
      "Epoch 4/20\n",
      "60000/60000 [==============================] - 4s 71us/sample - loss: 0.0347 - accuracy: 0.9885\n",
      "Epoch 5/20\n",
      "59616/60000 [============================>.] - ETA: 0s - loss: 0.0274 - accuracy: 0.9908\n",
      "Accuracy 99% or above. Training cancelled\n",
      "60000/60000 [==============================] - 4s 72us/sample - loss: 0.0273 - accuracy: 0.9908\n"
     ]
    },
    {
     "data": {
      "text/plain": [
       "([0, 1, 2, 3, 4], 0.99078333)"
      ]
     },
     "execution_count": 5,
     "metadata": {},
     "output_type": "execute_result"
    }
   ],
   "source": [
    "train_mnist()"
   ]
  },
  {
   "cell_type": "code",
   "execution_count": null,
   "metadata": {},
   "outputs": [],
   "source": []
  }
 ],
 "metadata": {
  "kernelspec": {
   "display_name": "Python 3",
   "language": "python",
   "name": "python3"
  },
  "language_info": {
   "codemirror_mode": {
    "name": "ipython",
    "version": 3
   },
   "file_extension": ".py",
   "mimetype": "text/x-python",
   "name": "python",
   "nbconvert_exporter": "python",
   "pygments_lexer": "ipython3",
   "version": "3.6.9"
  }
 },
 "nbformat": 4,
 "nbformat_minor": 4
}
