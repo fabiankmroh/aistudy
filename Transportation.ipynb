{
 "cells": [
  {
   "cell_type": "code",
   "execution_count": 1,
   "metadata": {},
   "outputs": [],
   "source": [
    "%matplotlib inline\n",
    "import os\n",
    "import zipfile\n",
    "import matplotlib.pyplot as plt\n",
    "import matplotlib.image as mpimg\n",
    "import tensorflow as tf\n",
    "from tensorflow.keras.preprocessing.image import ImageDataGenerator\n",
    "from tensorflow.keras.optimizers import RMSprop\n",
    "import random\n",
    "import numpy as np\n",
    "import matplotlib.pyplot as plt\n",
    "import matplotlib.image as mpim\n",
    "from tensorflow.keras.preprocessing.image import img_to_array, load_img"
   ]
  },
  {
   "cell_type": "code",
   "execution_count": 2,
   "metadata": {},
   "outputs": [
    {
     "data": {
      "text/plain": [
       "\"local_zip = '/home/fabian/transportation.zip' #Zip File Location Path\\nzip_ref = zipfile.ZipFile(local_zip, 'r') # Read the local_zip\\nzip_ref.extractall('/home/fabian/') # All images will be located in /tmp/horse-or-man\\nzip_ref.close() # Close the File\""
      ]
     },
     "execution_count": 2,
     "metadata": {},
     "output_type": "execute_result"
    }
   ],
   "source": [
    "\"\"\"local_zip = '/home/fabian/transportation.zip' #Zip File Location Path\n",
    "zip_ref = zipfile.ZipFile(local_zip, 'r') # Read the local_zip\n",
    "zip_ref.extractall('/home/fabian/') # All images will be located in /tmp/horse-or-man\n",
    "zip_ref.close() # Close the File\"\"\""
   ]
  },
  {
   "cell_type": "code",
   "execution_count": 3,
   "metadata": {},
   "outputs": [],
   "source": [
    "train_plane = os.path.join('/home/fabian/transportation/plane')\n",
    "train_car = os.path.join('/home/fabian/transportation/car')\n",
    "\n",
    "validation_plane = os.path.join('/home/fabian/transval/plane')\n",
    "validation_car = os.path.join('/home/fabian/transval/car')"
   ]
  },
  {
   "cell_type": "code",
   "execution_count": 4,
   "metadata": {},
   "outputs": [
    {
     "name": "stdout",
     "output_type": "stream",
     "text": [
      "['alitalia1-700x467.png', '20200424-virgin-australia_4A8E536BCC6E4836A93C4076691909BD.jpg', 'b-17_sentimental_journey_204.jpg', 'Aeromexico-Boeing-787-Faces-Speed-Problems.jpg', 'Russian_Jets_Alaska_86236.jpg-a03e8.jpg', '19-July-Super-Hornet-625.png', 'images33.jpg', 'hqdefault.jpg', '23bc9965180b35fd007919c289e608d3.jpg', '_110649407_mediaitem110649406.jpg']\n",
      "['porsche-cayenne.jpg', 'model-s-range-desktop.png', '2020HYC010001_640_01.png', '945812.jpg', 'asset.MQ6.0.20190822163300.jpeg', '757610.jpg', '5e8b34a9883a9-bmw-eastern-region_20190930123821.png', '2019_Hyundai_Elantra_Limited_28AD_facelift29_front_NYIAS_2019.jpg', '2021-genesis-gv80-chicago-01.jpg', 'hyundai-palisade-menu.png']\n"
     ]
    }
   ],
   "source": [
    "train_plane_names = os.listdir(train_plane)\n",
    "print(train_plane_names[:10])\n",
    "\n",
    "train_car_names = os.listdir(train_car)\n",
    "print(train_car_names[:10])"
   ]
  },
  {
   "cell_type": "code",
   "execution_count": null,
   "metadata": {},
   "outputs": [],
   "source": []
  },
  {
   "cell_type": "code",
   "execution_count": 5,
   "metadata": {},
   "outputs": [
    {
     "name": "stdout",
     "output_type": "stream",
     "text": [
      "total training plane images: 827\n",
      "total training car images: 943\n"
     ]
    }
   ],
   "source": [
    "print('total training plane images:', len(os.listdir(train_plane)))\n",
    "print('total training car images:', len(os.listdir(train_car)))"
   ]
  },
  {
   "cell_type": "code",
   "execution_count": 6,
   "metadata": {},
   "outputs": [],
   "source": [
    "nrows = 4\n",
    "ncols = 4\n",
    "\n",
    "pic_index = 0"
   ]
  },
  {
   "cell_type": "code",
   "execution_count": 7,
   "metadata": {},
   "outputs": [
    {
     "data": {
      "text/plain": [
       "[]"
      ]
     },
     "execution_count": 7,
     "metadata": {},
     "output_type": "execute_result"
    },
    {
     "data": {
      "text/plain": [
       "<Figure size 1152x1152 with 0 Axes>"
      ]
     },
     "metadata": {},
     "output_type": "display_data"
    }
   ],
   "source": [
    "fig = plt.gcf()\n",
    "fig.set_size_inches(ncols * 4, nrows * 4)\n",
    "\n",
    "pic_index += 100\n",
    "next_plane = [os.path.join(train_plane, fname) for fname in train_plane[pic_index-8:pic_index]]\n",
    "next_car = [os.path.join(train_car, fname) for fname in train_car[pic_index-8:pic_index]]\n",
    "\n",
    "next_plane\n",
    "next_car"
   ]
  },
  {
   "cell_type": "code",
   "execution_count": 8,
   "metadata": {},
   "outputs": [],
   "source": [
    "for i, img_path in enumerate(next_plane+next_car):\n",
    "    sp = plt.subplot(nrows, ncols, i + 1)\n",
    "    sp.axis('Off') \n",
    "\n",
    "    img = mpimg.imread(img_path)\n",
    "    plt.imshow(img)\n",
    "\n",
    "plt.show()"
   ]
  },
  {
   "cell_type": "code",
   "execution_count": 9,
   "metadata": {},
   "outputs": [
    {
     "name": "stdout",
     "output_type": "stream",
     "text": [
      "Model: \"sequential\"\n",
      "_________________________________________________________________\n",
      "Layer (type)                 Output Shape              Param #   \n",
      "=================================================================\n",
      "conv2d (Conv2D)              (None, 298, 298, 16)      448       \n",
      "_________________________________________________________________\n",
      "max_pooling2d (MaxPooling2D) (None, 149, 149, 16)      0         \n",
      "_________________________________________________________________\n",
      "conv2d_1 (Conv2D)            (None, 147, 147, 32)      4640      \n",
      "_________________________________________________________________\n",
      "max_pooling2d_1 (MaxPooling2 (None, 73, 73, 32)        0         \n",
      "_________________________________________________________________\n",
      "conv2d_2 (Conv2D)            (None, 71, 71, 64)        18496     \n",
      "_________________________________________________________________\n",
      "max_pooling2d_2 (MaxPooling2 (None, 35, 35, 64)        0         \n",
      "_________________________________________________________________\n",
      "conv2d_3 (Conv2D)            (None, 33, 33, 64)        36928     \n",
      "_________________________________________________________________\n",
      "max_pooling2d_3 (MaxPooling2 (None, 16, 16, 64)        0         \n",
      "_________________________________________________________________\n",
      "conv2d_4 (Conv2D)            (None, 14, 14, 64)        36928     \n",
      "_________________________________________________________________\n",
      "max_pooling2d_4 (MaxPooling2 (None, 7, 7, 64)          0         \n",
      "_________________________________________________________________\n",
      "flatten (Flatten)            (None, 3136)              0         \n",
      "_________________________________________________________________\n",
      "dense (Dense)                (None, 512)               1606144   \n",
      "_________________________________________________________________\n",
      "dense_1 (Dense)              (None, 1)                 513       \n",
      "=================================================================\n",
      "Total params: 1,704,097\n",
      "Trainable params: 1,704,097\n",
      "Non-trainable params: 0\n",
      "_________________________________________________________________\n"
     ]
    }
   ],
   "source": [
    "model = tf.keras.models.Sequential([\n",
    "    tf.keras.layers.Conv2D(16, (3,3), activation='relu', input_shape=(300, 300, 3)),\n",
    "    tf.keras.layers.MaxPooling2D(2, 2),\n",
    "    \n",
    "    tf.keras.layers.Conv2D(32, (3,3), activation='relu'),\n",
    "    tf.keras.layers.MaxPooling2D(2,2),\n",
    "    \n",
    "    tf.keras.layers.Conv2D(64, (3,3), activation='relu'),\n",
    "    tf.keras.layers.MaxPooling2D(2,2),\n",
    "    \n",
    "    tf.keras.layers.Conv2D(64, (3,3), activation='relu'),\n",
    "    tf.keras.layers.MaxPooling2D(2,2),\n",
    "    \n",
    "    tf.keras.layers.Conv2D(64, (3,3), activation='relu'),\n",
    "    tf.keras.layers.MaxPooling2D(2,2),\n",
    "    \n",
    "    tf.keras.layers.Flatten(),\n",
    "    tf.keras.layers.Dense(512, activation='relu'),\n",
    "    tf.keras.layers.Dense(1, activation='sigmoid') \n",
    "])\n",
    "\n",
    "model.summary()"
   ]
  },
  {
   "cell_type": "code",
   "execution_count": 13,
   "metadata": {},
   "outputs": [],
   "source": [
    "model.compile(loss = 'binary_crossentropy',\n",
    "              optimizer = RMSprop(lr=0.0001),\n",
    "              metrics = ['accuracy']) "
   ]
  },
  {
   "cell_type": "code",
   "execution_count": 14,
   "metadata": {},
   "outputs": [
    {
     "name": "stdout",
     "output_type": "stream",
     "text": [
      "Found 3528 images belonging to 2 classes.\n",
      "Found 165 images belonging to 2 classes.\n"
     ]
    }
   ],
   "source": [
    "train_datagen = ImageDataGenerator(rescale=1/255)\n",
    "validation_datagen = ImageDataGenerator(rescale=1/255)\n",
    "\n",
    "train_generator = train_datagen.flow_from_directory(\n",
    "        '/home/fabian/transportation/',  \n",
    "        target_size=(300, 300),  \n",
    "        batch_size=50,\n",
    "        class_mode='binary')\n",
    "\n",
    "validation_generator = validation_datagen.flow_from_directory(\n",
    "        '/home/fabian/transval/',\n",
    "        target_size=(300, 300), \n",
    "        batch_size=10,\n",
    "        class_mode='binary')"
   ]
  },
  {
   "cell_type": "code",
   "execution_count": null,
   "metadata": {},
   "outputs": [
    {
     "name": "stdout",
     "output_type": "stream",
     "text": [
      "WARNING:tensorflow:sample_weight modes were coerced from\n",
      "  ...\n",
      "    to  \n",
      "  ['...']\n",
      "WARNING:tensorflow:sample_weight modes were coerced from\n",
      "  ...\n",
      "    to  \n",
      "  ['...']\n",
      "Train for 5 steps, validate for 8 steps\n",
      "Epoch 1/150\n",
      "4/5 [=======================>......] - ETA: 1s - loss: 0.2046 - accuracy: 0.9000"
     ]
    },
    {
     "name": "stderr",
     "output_type": "stream",
     "text": [
      "/usr/local/lib/python3.6/dist-packages/PIL/Image.py:932: UserWarning: Palette images with Transparency expressed in bytes should be converted to RGBA images\n",
      "  \"Palette images with Transparency expressed in bytes should be \"\n"
     ]
    },
    {
     "name": "stdout",
     "output_type": "stream",
     "text": [
      "5/5 [==============================] - 12s 2s/step - loss: 0.2068 - accuracy: 0.9040 - val_loss: 0.1966 - val_accuracy: 0.9000\n",
      "Epoch 2/150\n",
      "5/5 [==============================] - 12s 2s/step - loss: 0.1607 - accuracy: 0.9320 - val_loss: 0.1973 - val_accuracy: 0.9000\n",
      "Epoch 3/150\n",
      "5/5 [==============================] - 12s 2s/step - loss: 0.1622 - accuracy: 0.9240 - val_loss: 0.1842 - val_accuracy: 0.9125\n",
      "Epoch 4/150\n",
      "5/5 [==============================] - 11s 2s/step - loss: 0.1331 - accuracy: 0.9480 - val_loss: 0.2098 - val_accuracy: 0.9000\n",
      "Epoch 5/150\n",
      "5/5 [==============================] - 11s 2s/step - loss: 0.1245 - accuracy: 0.9480 - val_loss: 0.1970 - val_accuracy: 0.9125\n",
      "Epoch 6/150\n",
      "5/5 [==============================] - 12s 2s/step - loss: 0.1641 - accuracy: 0.9200 - val_loss: 0.1825 - val_accuracy: 0.9125\n",
      "Epoch 7/150\n",
      "5/5 [==============================] - 13s 3s/step - loss: 0.1649 - accuracy: 0.9400 - val_loss: 0.1748 - val_accuracy: 0.9125\n",
      "Epoch 8/150\n",
      "5/5 [==============================] - 13s 3s/step - loss: 0.1351 - accuracy: 0.9280 - val_loss: 0.1757 - val_accuracy: 0.9250\n",
      "Epoch 9/150\n",
      "5/5 [==============================] - 14s 3s/step - loss: 0.1436 - accuracy: 0.9560 - val_loss: 0.1829 - val_accuracy: 0.9000\n",
      "Epoch 10/150\n",
      "5/5 [==============================] - 11s 2s/step - loss: 0.1946 - accuracy: 0.9200 - val_loss: 0.1739 - val_accuracy: 0.9250\n",
      "Epoch 11/150\n",
      "5/5 [==============================] - 11s 2s/step - loss: 0.1964 - accuracy: 0.9160 - val_loss: 0.1841 - val_accuracy: 0.9000\n",
      "Epoch 12/150\n",
      "5/5 [==============================] - 12s 2s/step - loss: 0.1189 - accuracy: 0.9480 - val_loss: 0.1773 - val_accuracy: 0.9000\n",
      "Epoch 13/150\n",
      "5/5 [==============================] - 13s 3s/step - loss: 0.1823 - accuracy: 0.9320 - val_loss: 0.1778 - val_accuracy: 0.9000\n",
      "Epoch 14/150\n",
      "5/5 [==============================] - 11s 2s/step - loss: 0.1142 - accuracy: 0.9640 - val_loss: 0.1759 - val_accuracy: 0.9250\n",
      "Epoch 15/150\n",
      "5/5 [==============================] - 11s 2s/step - loss: 0.1444 - accuracy: 0.9400 - val_loss: 0.1656 - val_accuracy: 0.9375\n",
      "Epoch 16/150\n",
      "5/5 [==============================] - 13s 3s/step - loss: 0.1794 - accuracy: 0.9280 - val_loss: 0.1820 - val_accuracy: 0.9000\n",
      "Epoch 17/150\n",
      "5/5 [==============================] - 10s 2s/step - loss: 0.1339 - accuracy: 0.9480 - val_loss: 0.1718 - val_accuracy: 0.9250\n",
      "Epoch 18/150\n",
      "5/5 [==============================] - 11s 2s/step - loss: 0.1429 - accuracy: 0.9430 - val_loss: 0.1650 - val_accuracy: 0.9375\n",
      "Epoch 19/150\n",
      "5/5 [==============================] - 11s 2s/step - loss: 0.1189 - accuracy: 0.9560 - val_loss: 0.1823 - val_accuracy: 0.9000\n",
      "Epoch 20/150\n",
      "5/5 [==============================] - 11s 2s/step - loss: 0.1786 - accuracy: 0.9200 - val_loss: 0.1846 - val_accuracy: 0.9000\n",
      "Epoch 21/150\n",
      "5/5 [==============================] - 11s 2s/step - loss: 0.1136 - accuracy: 0.9560 - val_loss: 0.1768 - val_accuracy: 0.9000\n",
      "Epoch 22/150\n",
      "5/5 [==============================] - 11s 2s/step - loss: 0.0735 - accuracy: 0.9760 - val_loss: 0.1790 - val_accuracy: 0.9000\n",
      "Epoch 23/150\n",
      "5/5 [==============================] - 10s 2s/step - loss: 0.1221 - accuracy: 0.9600 - val_loss: 0.1705 - val_accuracy: 0.9125\n",
      "Epoch 24/150\n",
      "5/5 [==============================] - 12s 2s/step - loss: 0.1191 - accuracy: 0.9440 - val_loss: 0.1873 - val_accuracy: 0.9000\n",
      "Epoch 25/150\n",
      "5/5 [==============================] - 13s 3s/step - loss: 0.1000 - accuracy: 0.9640 - val_loss: 0.2148 - val_accuracy: 0.9000\n",
      "Epoch 26/150\n",
      "5/5 [==============================] - 12s 2s/step - loss: 0.1592 - accuracy: 0.9480 - val_loss: 0.1800 - val_accuracy: 0.9125\n",
      "Epoch 27/150\n",
      "5/5 [==============================] - 12s 2s/step - loss: 0.0954 - accuracy: 0.9640 - val_loss: 0.1758 - val_accuracy: 0.9125\n",
      "Epoch 28/150\n",
      "5/5 [==============================] - 12s 2s/step - loss: 0.1561 - accuracy: 0.9320 - val_loss: 0.1937 - val_accuracy: 0.9125\n",
      "Epoch 29/150\n",
      "5/5 [==============================] - 12s 2s/step - loss: 0.1082 - accuracy: 0.9480 - val_loss: 0.1897 - val_accuracy: 0.9000\n",
      "Epoch 30/150\n",
      "5/5 [==============================] - 12s 2s/step - loss: 0.1220 - accuracy: 0.9440 - val_loss: 0.1649 - val_accuracy: 0.9125\n",
      "Epoch 31/150\n",
      "5/5 [==============================] - 11s 2s/step - loss: 0.1494 - accuracy: 0.9280 - val_loss: 0.1659 - val_accuracy: 0.9125\n",
      "Epoch 32/150\n",
      "5/5 [==============================] - 12s 2s/step - loss: 0.1434 - accuracy: 0.9360 - val_loss: 0.1655 - val_accuracy: 0.9125\n",
      "Epoch 33/150\n",
      "5/5 [==============================] - 11s 2s/step - loss: 0.1341 - accuracy: 0.9400 - val_loss: 0.1614 - val_accuracy: 0.9375\n",
      "Epoch 34/150\n",
      "5/5 [==============================] - 13s 3s/step - loss: 0.0952 - accuracy: 0.9600 - val_loss: 0.1629 - val_accuracy: 0.9375\n",
      "Epoch 35/150\n",
      "5/5 [==============================] - 13s 3s/step - loss: 0.1536 - accuracy: 0.9320 - val_loss: 0.1625 - val_accuracy: 0.9250\n",
      "Epoch 36/150\n",
      "5/5 [==============================] - 13s 3s/step - loss: 0.1379 - accuracy: 0.9520 - val_loss: 0.1686 - val_accuracy: 0.9375\n",
      "Epoch 37/150\n",
      "5/5 [==============================] - 13s 3s/step - loss: 0.1612 - accuracy: 0.9280 - val_loss: 0.1599 - val_accuracy: 0.9375\n",
      "Epoch 38/150\n",
      "5/5 [==============================] - 11s 2s/step - loss: 0.1278 - accuracy: 0.9480 - val_loss: 0.1610 - val_accuracy: 0.9375\n",
      "Epoch 39/150\n",
      "5/5 [==============================] - 12s 2s/step - loss: 0.1200 - accuracy: 0.9400 - val_loss: 0.1672 - val_accuracy: 0.9250\n",
      "Epoch 40/150\n",
      "5/5 [==============================] - 12s 2s/step - loss: 0.0894 - accuracy: 0.9640 - val_loss: 0.1658 - val_accuracy: 0.9250\n",
      "Epoch 41/150\n",
      "5/5 [==============================] - 11s 2s/step - loss: 0.0829 - accuracy: 0.9600 - val_loss: 0.1578 - val_accuracy: 0.9375\n",
      "Epoch 42/150\n",
      "5/5 [==============================] - 13s 3s/step - loss: 0.1162 - accuracy: 0.9600 - val_loss: 0.1655 - val_accuracy: 0.9125\n",
      "Epoch 43/150\n",
      "5/5 [==============================] - 11s 2s/step - loss: 0.1195 - accuracy: 0.9480 - val_loss: 0.1671 - val_accuracy: 0.9125\n",
      "Epoch 44/150\n",
      "5/5 [==============================] - 11s 2s/step - loss: 0.1104 - accuracy: 0.9480 - val_loss: 0.1557 - val_accuracy: 0.9375\n",
      "Epoch 45/150\n",
      "5/5 [==============================] - 11s 2s/step - loss: 0.0930 - accuracy: 0.9680 - val_loss: 0.1763 - val_accuracy: 0.9125\n",
      "Epoch 46/150\n",
      "5/5 [==============================] - 13s 3s/step - loss: 0.1350 - accuracy: 0.9480 - val_loss: 0.1684 - val_accuracy: 0.9125\n",
      "Epoch 47/150\n",
      "5/5 [==============================] - 14s 3s/step - loss: 0.0990 - accuracy: 0.9640 - val_loss: 0.1748 - val_accuracy: 0.9125\n",
      "Epoch 48/150\n",
      "5/5 [==============================] - 12s 2s/step - loss: 0.1333 - accuracy: 0.9520 - val_loss: 0.1593 - val_accuracy: 0.9375\n",
      "Epoch 49/150\n",
      "5/5 [==============================] - 10s 2s/step - loss: 0.1240 - accuracy: 0.9480 - val_loss: 0.1555 - val_accuracy: 0.9375\n",
      "Epoch 50/150\n",
      "5/5 [==============================] - 13s 3s/step - loss: 0.0893 - accuracy: 0.9600 - val_loss: 0.1633 - val_accuracy: 0.9375\n",
      "Epoch 51/150\n",
      "5/5 [==============================] - 12s 2s/step - loss: 0.1479 - accuracy: 0.9280 - val_loss: 0.1942 - val_accuracy: 0.9125\n",
      "Epoch 52/150\n",
      "5/5 [==============================] - 12s 2s/step - loss: 0.1420 - accuracy: 0.9440 - val_loss: 0.1477 - val_accuracy: 0.9250\n",
      "Epoch 53/150\n",
      "5/5 [==============================] - 13s 3s/step - loss: 0.1174 - accuracy: 0.9600 - val_loss: 0.1431 - val_accuracy: 0.9375\n",
      "Epoch 54/150\n",
      "5/5 [==============================] - 12s 2s/step - loss: 0.0913 - accuracy: 0.9600 - val_loss: 0.1622 - val_accuracy: 0.9125\n",
      "Epoch 55/150\n",
      "5/5 [==============================] - 11s 2s/step - loss: 0.1088 - accuracy: 0.9600 - val_loss: 0.1421 - val_accuracy: 0.9375\n",
      "Epoch 56/150\n",
      "5/5 [==============================] - 14s 3s/step - loss: 0.0901 - accuracy: 0.9640 - val_loss: 0.1578 - val_accuracy: 0.9125\n",
      "Epoch 57/150\n",
      "5/5 [==============================] - 12s 2s/step - loss: 0.0721 - accuracy: 0.9800 - val_loss: 0.1527 - val_accuracy: 0.9250\n",
      "Epoch 58/150\n",
      "5/5 [==============================] - 11s 2s/step - loss: 0.1112 - accuracy: 0.9440 - val_loss: 0.1668 - val_accuracy: 0.9125\n",
      "Epoch 59/150\n"
     ]
    },
    {
     "name": "stdout",
     "output_type": "stream",
     "text": [
      "5/5 [==============================] - 12s 2s/step - loss: 0.0966 - accuracy: 0.9640 - val_loss: 0.1633 - val_accuracy: 0.9125\n",
      "Epoch 60/150\n",
      "5/5 [==============================] - 12s 2s/step - loss: 0.0971 - accuracy: 0.9560 - val_loss: 0.1442 - val_accuracy: 0.9375\n",
      "Epoch 61/150\n",
      "5/5 [==============================] - 13s 3s/step - loss: 0.1165 - accuracy: 0.9560 - val_loss: 0.1905 - val_accuracy: 0.9000\n",
      "Epoch 62/150\n",
      "5/5 [==============================] - 11s 2s/step - loss: 0.1107 - accuracy: 0.9560 - val_loss: 0.1575 - val_accuracy: 0.9250\n",
      "Epoch 63/150\n",
      "5/5 [==============================] - 13s 3s/step - loss: 0.0884 - accuracy: 0.9680 - val_loss: 0.1383 - val_accuracy: 0.9375\n",
      "Epoch 64/150\n",
      "5/5 [==============================] - 12s 2s/step - loss: 0.1484 - accuracy: 0.9320 - val_loss: 0.1490 - val_accuracy: 0.9250\n",
      "Epoch 65/150\n",
      "5/5 [==============================] - 13s 3s/step - loss: 0.1141 - accuracy: 0.9600 - val_loss: 0.1361 - val_accuracy: 0.9375\n",
      "Epoch 66/150\n",
      "5/5 [==============================] - 10s 2s/step - loss: 0.1201 - accuracy: 0.9520 - val_loss: 0.1462 - val_accuracy: 0.9250\n",
      "Epoch 67/150\n",
      "5/5 [==============================] - 12s 2s/step - loss: 0.0793 - accuracy: 0.9720 - val_loss: 0.1401 - val_accuracy: 0.9375\n",
      "Epoch 68/150\n",
      "5/5 [==============================] - 14s 3s/step - loss: 0.1060 - accuracy: 0.9600 - val_loss: 0.1718 - val_accuracy: 0.9125\n",
      "Epoch 69/150\n",
      "5/5 [==============================] - 10s 2s/step - loss: 0.1105 - accuracy: 0.9561 - val_loss: 0.1374 - val_accuracy: 0.9375\n",
      "Epoch 70/150\n",
      "5/5 [==============================] - 12s 2s/step - loss: 0.0872 - accuracy: 0.9600 - val_loss: 0.1531 - val_accuracy: 0.9250\n",
      "Epoch 71/150\n",
      "5/5 [==============================] - 12s 2s/step - loss: 0.0779 - accuracy: 0.9640 - val_loss: 0.1652 - val_accuracy: 0.9125\n",
      "Epoch 72/150\n",
      "5/5 [==============================] - 13s 3s/step - loss: 0.1229 - accuracy: 0.9440 - val_loss: 0.1517 - val_accuracy: 0.9125\n",
      "Epoch 73/150\n",
      "5/5 [==============================] - 12s 2s/step - loss: 0.0756 - accuracy: 0.9760 - val_loss: 0.1395 - val_accuracy: 0.9250\n",
      "Epoch 74/150\n",
      "5/5 [==============================] - 12s 2s/step - loss: 0.1157 - accuracy: 0.9480 - val_loss: 0.1363 - val_accuracy: 0.9375\n",
      "Epoch 75/150\n",
      "5/5 [==============================] - 12s 2s/step - loss: 0.1217 - accuracy: 0.9520 - val_loss: 0.1381 - val_accuracy: 0.9250\n",
      "Epoch 76/150\n",
      "5/5 [==============================] - 13s 3s/step - loss: 0.1106 - accuracy: 0.9520 - val_loss: 0.1331 - val_accuracy: 0.9250\n",
      "Epoch 77/150\n",
      "5/5 [==============================] - 14s 3s/step - loss: 0.0823 - accuracy: 0.9760 - val_loss: 0.1487 - val_accuracy: 0.9125\n",
      "Epoch 78/150\n",
      "5/5 [==============================] - 13s 3s/step - loss: 0.0983 - accuracy: 0.9600 - val_loss: 0.1301 - val_accuracy: 0.9375\n",
      "Epoch 79/150\n",
      "5/5 [==============================] - 13s 3s/step - loss: 0.0623 - accuracy: 0.9720 - val_loss: 0.1361 - val_accuracy: 0.9375\n",
      "Epoch 80/150\n",
      "5/5 [==============================] - 11s 2s/step - loss: 0.1185 - accuracy: 0.9480 - val_loss: 0.1340 - val_accuracy: 0.9375\n",
      "Epoch 81/150\n",
      "5/5 [==============================] - 11s 2s/step - loss: 0.1178 - accuracy: 0.9600 - val_loss: 0.1411 - val_accuracy: 0.9375\n",
      "Epoch 82/150\n",
      "5/5 [==============================] - 14s 3s/step - loss: 0.0642 - accuracy: 0.9880 - val_loss: 0.1439 - val_accuracy: 0.9375\n",
      "Epoch 83/150\n",
      "5/5 [==============================] - 13s 3s/step - loss: 0.1364 - accuracy: 0.9400 - val_loss: 0.1544 - val_accuracy: 0.9250\n",
      "Epoch 84/150\n",
      "5/5 [==============================] - 11s 2s/step - loss: 0.0807 - accuracy: 0.9600 - val_loss: 0.1320 - val_accuracy: 0.9375\n",
      "Epoch 85/150\n",
      "5/5 [==============================] - 12s 2s/step - loss: 0.0604 - accuracy: 0.9840 - val_loss: 0.1398 - val_accuracy: 0.9250\n",
      "Epoch 86/150\n",
      "5/5 [==============================] - 10s 2s/step - loss: 0.0905 - accuracy: 0.9518 - val_loss: 0.1431 - val_accuracy: 0.9125\n",
      "Epoch 87/150\n",
      "5/5 [==============================] - 13s 3s/step - loss: 0.1112 - accuracy: 0.9560 - val_loss: 0.1389 - val_accuracy: 0.9250\n",
      "Epoch 88/150\n",
      "5/5 [==============================] - 10s 2s/step - loss: 0.0671 - accuracy: 0.9760 - val_loss: 0.1537 - val_accuracy: 0.9250\n",
      "Epoch 89/150\n",
      "5/5 [==============================] - 11s 2s/step - loss: 0.0832 - accuracy: 0.9640 - val_loss: 0.1328 - val_accuracy: 0.9250\n",
      "Epoch 90/150\n",
      "5/5 [==============================] - 12s 2s/step - loss: 0.0736 - accuracy: 0.9800 - val_loss: 0.1437 - val_accuracy: 0.9250\n",
      "Epoch 91/150\n",
      "5/5 [==============================] - 12s 2s/step - loss: 0.0824 - accuracy: 0.9720 - val_loss: 0.1381 - val_accuracy: 0.9375\n",
      "Epoch 92/150\n",
      "5/5 [==============================] - 11s 2s/step - loss: 0.1041 - accuracy: 0.9560 - val_loss: 0.1358 - val_accuracy: 0.9375\n",
      "Epoch 93/150\n",
      "5/5 [==============================] - 12s 2s/step - loss: 0.0532 - accuracy: 0.9840 - val_loss: 0.1411 - val_accuracy: 0.9250\n",
      "Epoch 94/150\n",
      "5/5 [==============================] - 12s 2s/step - loss: 0.0997 - accuracy: 0.9480 - val_loss: 0.1268 - val_accuracy: 0.9375\n",
      "Epoch 95/150\n",
      "5/5 [==============================] - 11s 2s/step - loss: 0.0982 - accuracy: 0.9560 - val_loss: 0.1321 - val_accuracy: 0.9250\n",
      "Epoch 96/150\n",
      "5/5 [==============================] - 12s 2s/step - loss: 0.0692 - accuracy: 0.9720 - val_loss: 0.1533 - val_accuracy: 0.9250\n",
      "Epoch 97/150\n",
      "5/5 [==============================] - 13s 3s/step - loss: 0.0492 - accuracy: 0.9800 - val_loss: 0.1456 - val_accuracy: 0.9250\n",
      "Epoch 98/150\n",
      "5/5 [==============================] - 13s 3s/step - loss: 0.1228 - accuracy: 0.9520 - val_loss: 0.1406 - val_accuracy: 0.9250\n",
      "Epoch 99/150\n",
      "5/5 [==============================] - 12s 2s/step - loss: 0.0961 - accuracy: 0.9680 - val_loss: 0.1372 - val_accuracy: 0.9250\n",
      "Epoch 100/150\n",
      "5/5 [==============================] - 12s 2s/step - loss: 0.0805 - accuracy: 0.9600 - val_loss: 0.1345 - val_accuracy: 0.9250\n",
      "Epoch 101/150\n",
      "5/5 [==============================] - 11s 2s/step - loss: 0.0674 - accuracy: 0.9680 - val_loss: 0.1247 - val_accuracy: 0.9250\n",
      "Epoch 102/150\n",
      "5/5 [==============================] - 13s 3s/step - loss: 0.0985 - accuracy: 0.9640 - val_loss: 0.1397 - val_accuracy: 0.9375\n",
      "Epoch 103/150\n",
      "5/5 [==============================] - 12s 2s/step - loss: 0.0640 - accuracy: 0.9800 - val_loss: 0.1192 - val_accuracy: 0.9250\n",
      "Epoch 104/150\n",
      "5/5 [==============================] - 13s 3s/step - loss: 0.0782 - accuracy: 0.9720 - val_loss: 0.1255 - val_accuracy: 0.9250\n",
      "Epoch 105/150\n",
      "5/5 [==============================] - 12s 2s/step - loss: 0.0802 - accuracy: 0.9737 - val_loss: 0.1290 - val_accuracy: 0.9250\n",
      "Epoch 106/150\n",
      "5/5 [==============================] - 13s 3s/step - loss: 0.0878 - accuracy: 0.9640 - val_loss: 0.1312 - val_accuracy: 0.9250\n",
      "Epoch 107/150\n",
      "5/5 [==============================] - 13s 3s/step - loss: 0.0657 - accuracy: 0.9760 - val_loss: 0.1586 - val_accuracy: 0.9375\n",
      "Epoch 108/150\n",
      "5/5 [==============================] - 12s 2s/step - loss: 0.0399 - accuracy: 0.9840 - val_loss: 0.1451 - val_accuracy: 0.9250\n",
      "Epoch 109/150\n",
      "5/5 [==============================] - 12s 2s/step - loss: 0.0492 - accuracy: 0.9880 - val_loss: 0.1236 - val_accuracy: 0.9375\n",
      "Epoch 110/150\n",
      "5/5 [==============================] - 12s 2s/step - loss: 0.0498 - accuracy: 0.9880 - val_loss: 0.1462 - val_accuracy: 0.9250\n",
      "Epoch 111/150\n",
      "5/5 [==============================] - 13s 3s/step - loss: 0.0588 - accuracy: 0.9760 - val_loss: 0.1231 - val_accuracy: 0.9250\n",
      "Epoch 112/150\n",
      "5/5 [==============================] - 12s 2s/step - loss: 0.0576 - accuracy: 0.9800 - val_loss: 0.1272 - val_accuracy: 0.9375\n",
      "Epoch 113/150\n",
      "5/5 [==============================] - 10s 2s/step - loss: 0.0384 - accuracy: 0.9880 - val_loss: 0.1271 - val_accuracy: 0.9250\n",
      "Epoch 114/150\n",
      "5/5 [==============================] - 11s 2s/step - loss: 0.0501 - accuracy: 0.9760 - val_loss: 0.1390 - val_accuracy: 0.9250\n",
      "Epoch 115/150\n",
      "5/5 [==============================] - 13s 3s/step - loss: 0.0652 - accuracy: 0.9720 - val_loss: 0.1370 - val_accuracy: 0.9250\n",
      "Epoch 116/150\n"
     ]
    }
   ],
   "source": [
    "history = model.fit(train_generator, steps_per_epoch=5, epochs=150, verbose=1, validation_data = validation_generator,\n",
    "      validation_steps=8)"
   ]
  },
  {
   "cell_type": "code",
   "execution_count": null,
   "metadata": {},
   "outputs": [],
   "source": []
  }
 ],
 "metadata": {
  "kernelspec": {
   "display_name": "Python 3",
   "language": "python",
   "name": "python3"
  },
  "language_info": {
   "codemirror_mode": {
    "name": "ipython",
    "version": 3
   },
   "file_extension": ".py",
   "mimetype": "text/x-python",
   "name": "python",
   "nbconvert_exporter": "python",
   "pygments_lexer": "ipython3",
   "version": "3.6.9"
  }
 },
 "nbformat": 4,
 "nbformat_minor": 4
}
