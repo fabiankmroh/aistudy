{
 "cells": [
  {
   "cell_type": "code",
   "execution_count": 2,
   "metadata": {},
   "outputs": [],
   "source": [
    "import tensorflow as tf\n",
    "from tensorflow import keras"
   ]
  },
  {
   "cell_type": "markdown",
   "metadata": {},
   "source": [
    "Callback Implemented."
   ]
  },
  {
   "cell_type": "markdown",
   "metadata": {},
   "source": [
    "## The Fashion MNIST data is available directly in the tf.keras datasets API. You load it like this:"
   ]
  },
  {
   "cell_type": "code",
   "execution_count": 3,
   "metadata": {},
   "outputs": [],
   "source": [
    "mnist = tf.keras.datasets.fashion_mnist"
   ]
  },
  {
   "cell_type": "code",
   "execution_count": 4,
   "metadata": {},
   "outputs": [],
   "source": [
    "(training_images, training_labels), (test_images, test_labels) = mnist.load_data()"
   ]
  },
  {
   "cell_type": "markdown",
   "metadata": {},
   "source": [
    "Import Matplotlib library (Converts image into a grayscale value)"
   ]
  },
  {
   "cell_type": "code",
   "execution_count": 5,
   "metadata": {},
   "outputs": [],
   "source": [
    "import matplotlib.pyplot as plt"
   ]
  },
  {
   "cell_type": "markdown",
   "metadata": {},
   "source": [
    "Print training image and label"
   ]
  },
  {
   "cell_type": "code",
   "execution_count": 6,
   "metadata": {},
   "outputs": [
    {
     "data": {
      "text/plain": [
       "<matplotlib.image.AxesImage at 0x7f15100825f8>"
      ]
     },
     "execution_count": 6,
     "metadata": {},
     "output_type": "execute_result"
    },
    {
     "data": {
      "image/png": "[encoded data removed]",
      "text/plain": [
       "<Figure size 432x288 with 1 Axes>"
      ]
     },
     "metadata": {
      "needs_background": "light"
     },
     "output_type": "display_data"
    }
   ],
   "source": [
    "plt.imshow(training_images[0])"
   ]
  },
  {
   "cell_type": "markdown",
   "metadata": {},
   "source": [
    "If we are training a neural network, for various reasons it's easier if we treat all values as between 0 and 1, a process called 'normalizing'...and fortunately in Python it's easy to normalize a list like this without looping."
   ]
  },
  {
   "cell_type": "code",
   "execution_count": 7,
   "metadata": {},
   "outputs": [],
   "source": [
    "training_images  = training_images / 255.0\n",
    "test_images = test_images / 255.0"
   ]
  },
  {
   "cell_type": "code",
   "execution_count": 15,
   "metadata": {},
   "outputs": [],
   "source": [
    "model = tf.keras.models.Sequential([tf.keras.layers.Flatten(), \n",
    "                                    tf.keras.layers.Dense(1024, activation=tf.nn.relu), \n",
    "                                    tf.keras.layers.Dense(10, activation=tf.nn.softmax)])"
   ]
  },
  {
   "cell_type": "code",
   "execution_count": 16,
   "metadata": {},
   "outputs": [
    {
     "name": "stdout",
     "output_type": "stream",
     "text": [
      "Train on 60000 samples\n",
      "Epoch 1/50\n",
      "60000/60000 [==============================] - 6s 102us/sample - loss: 0.4710 - accuracy: 0.8302\n",
      "Epoch 2/50\n",
      "60000/60000 [==============================] - 6s 100us/sample - loss: 0.3588 - accuracy: 0.8680\n",
      "Epoch 3/50\n",
      "60000/60000 [==============================] - 6s 101us/sample - loss: 0.3203 - accuracy: 0.8816\n",
      "Epoch 4/50\n",
      "60000/60000 [==============================] - 6s 101us/sample - loss: 0.2972 - accuracy: 0.8895\n",
      "Epoch 5/50\n",
      "60000/60000 [==============================] - 6s 101us/sample - loss: 0.2784 - accuracy: 0.8968\n",
      "Epoch 6/50\n",
      "60000/60000 [==============================] - 6s 100us/sample - loss: 0.2631 - accuracy: 0.9019\n",
      "Epoch 7/50\n",
      "60000/60000 [==============================] - 6s 101us/sample - loss: 0.2514 - accuracy: 0.9061\n",
      "Epoch 8/50\n",
      "60000/60000 [==============================] - 6s 101us/sample - loss: 0.2385 - accuracy: 0.9112\n",
      "Epoch 9/50\n",
      "60000/60000 [==============================] - 6s 101us/sample - loss: 0.2274 - accuracy: 0.9140\n",
      "Epoch 10/50\n",
      "60000/60000 [==============================] - 6s 101us/sample - loss: 0.2200 - accuracy: 0.9167\n",
      "Epoch 11/50\n",
      "60000/60000 [==============================] - 6s 101us/sample - loss: 0.2093 - accuracy: 0.9211\n",
      "Epoch 12/50\n",
      "60000/60000 [==============================] - 6s 101us/sample - loss: 0.2011 - accuracy: 0.9239\n",
      "Epoch 13/50\n",
      "60000/60000 [==============================] - 6s 101us/sample - loss: 0.1934 - accuracy: 0.9272\n",
      "Epoch 14/50\n",
      "60000/60000 [==============================] - 6s 101us/sample - loss: 0.1887 - accuracy: 0.9282\n",
      "Epoch 15/50\n",
      "60000/60000 [==============================] - 6s 101us/sample - loss: 0.1834 - accuracy: 0.9314\n",
      "Epoch 16/50\n",
      "60000/60000 [==============================] - 6s 101us/sample - loss: 0.1754 - accuracy: 0.9346\n",
      "Epoch 17/50\n",
      "60000/60000 [==============================] - 6s 101us/sample - loss: 0.1696 - accuracy: 0.9364\n",
      "Epoch 18/50\n",
      "60000/60000 [==============================] - 6s 101us/sample - loss: 0.1644 - accuracy: 0.9380\n",
      "Epoch 19/50\n",
      "60000/60000 [==============================] - 6s 101us/sample - loss: 0.1578 - accuracy: 0.9403\n",
      "Epoch 20/50\n",
      "60000/60000 [==============================] - 6s 101us/sample - loss: 0.1536 - accuracy: 0.9427\n",
      "Epoch 21/50\n",
      "60000/60000 [==============================] - 6s 102us/sample - loss: 0.1496 - accuracy: 0.9438\n",
      "Epoch 22/50\n",
      "60000/60000 [==============================] - 6s 101us/sample - loss: 0.1484 - accuracy: 0.9444\n",
      "Epoch 23/50\n",
      "60000/60000 [==============================] - 6s 101us/sample - loss: 0.1422 - accuracy: 0.9471\n",
      "Epoch 24/50\n",
      "60000/60000 [==============================] - 6s 101us/sample - loss: 0.1382 - accuracy: 0.9484\n",
      "Epoch 25/50\n",
      "60000/60000 [==============================] - 6s 101us/sample - loss: 0.1343 - accuracy: 0.9492\n",
      "Epoch 26/50\n",
      "60000/60000 [==============================] - 6s 101us/sample - loss: 0.1333 - accuracy: 0.9502\n",
      "Epoch 27/50\n",
      "60000/60000 [==============================] - 6s 101us/sample - loss: 0.1288 - accuracy: 0.9511\n",
      "Epoch 28/50\n",
      "60000/60000 [==============================] - 6s 100us/sample - loss: 0.1249 - accuracy: 0.9526\n",
      "Epoch 29/50\n",
      "60000/60000 [==============================] - 6s 101us/sample - loss: 0.1230 - accuracy: 0.9544\n",
      "Epoch 30/50\n",
      "60000/60000 [==============================] - 6s 101us/sample - loss: 0.1191 - accuracy: 0.9560\n",
      "Epoch 31/50\n",
      "60000/60000 [==============================] - 6s 101us/sample - loss: 0.1173 - accuracy: 0.9559\n",
      "Epoch 32/50\n",
      "60000/60000 [==============================] - 6s 101us/sample - loss: 0.1132 - accuracy: 0.9575\n",
      "Epoch 33/50\n",
      "60000/60000 [==============================] - 6s 101us/sample - loss: 0.1121 - accuracy: 0.9581\n",
      "Epoch 34/50\n",
      "60000/60000 [==============================] - 6s 101us/sample - loss: 0.1100 - accuracy: 0.9585\n",
      "Epoch 35/50\n",
      "60000/60000 [==============================] - 6s 101us/sample - loss: 0.1035 - accuracy: 0.9602\n",
      "Epoch 36/50\n",
      "60000/60000 [==============================] - 6s 101us/sample - loss: 0.1036 - accuracy: 0.9602\n",
      "Epoch 37/50\n",
      "60000/60000 [==============================] - 6s 101us/sample - loss: 0.1025 - accuracy: 0.9611\n",
      "Epoch 38/50\n",
      "60000/60000 [==============================] - 6s 101us/sample - loss: 0.0996 - accuracy: 0.9632\n",
      "Epoch 39/50\n",
      "60000/60000 [==============================] - 6s 101us/sample - loss: 0.1000 - accuracy: 0.9624\n",
      "Epoch 40/50\n",
      "60000/60000 [==============================] - 6s 102us/sample - loss: 0.0959 - accuracy: 0.9643\n",
      "Epoch 41/50\n",
      "60000/60000 [==============================] - 6s 101us/sample - loss: 0.0944 - accuracy: 0.9650\n",
      "Epoch 42/50\n",
      "60000/60000 [==============================] - 6s 100us/sample - loss: 0.0914 - accuracy: 0.9652\n",
      "Epoch 43/50\n",
      "60000/60000 [==============================] - 6s 101us/sample - loss: 0.0923 - accuracy: 0.9656\n",
      "Epoch 44/50\n",
      "60000/60000 [==============================] - 6s 101us/sample - loss: 0.0874 - accuracy: 0.9665\n",
      "Epoch 45/50\n",
      "60000/60000 [==============================] - 6s 101us/sample - loss: 0.0892 - accuracy: 0.9659\n",
      "Epoch 46/50\n",
      "60000/60000 [==============================] - 6s 101us/sample - loss: 0.0862 - accuracy: 0.9681\n",
      "Epoch 47/50\n",
      "60000/60000 [==============================] - 6s 101us/sample - loss: 0.0835 - accuracy: 0.9689\n",
      "Epoch 48/50\n",
      "60000/60000 [==============================] - 6s 101us/sample - loss: 0.0826 - accuracy: 0.9687\n",
      "Epoch 49/50\n",
      "60000/60000 [==============================] - 6s 102us/sample - loss: 0.0829 - accuracy: 0.9694\n",
      "Epoch 50/50\n",
      "60000/60000 [==============================] - 6s 102us/sample - loss: 0.0797 - accuracy: 0.9694\n"
     ]
    },
    {
     "data": {
      "text/plain": [
       "<tensorflow.python.keras.callbacks.History at 0x7f14e858b048>"
      ]
     },
     "execution_count": 16,
     "metadata": {},
     "output_type": "execute_result"
    }
   ],
   "source": [
    "model.compile(optimizer = tf.keras.optimizers.Adam(),\n",
    "              loss = 'sparse_categorical_crossentropy',\n",
    "              metrics=['accuracy'])\n",
    "\n",
    "model.fit(training_images, training_labels, epochs = 50)"
   ]
  },
  {
   "cell_type": "code",
   "execution_count": 19,
   "metadata": {},
   "outputs": [
    {
     "name": "stdout",
     "output_type": "stream",
     "text": [
      "10000/10000 [==============================] - 1s 60us/sample - loss: 0.6472 - accuracy: 0.8863\n",
      "[0.0000000e+00 0.0000000e+00 0.0000000e+00 0.0000000e+00 0.0000000e+00\n",
      " 1.6268995e-36 0.0000000e+00 0.0000000e+00 1.0000000e+00 0.0000000e+00]\n",
      "8\n"
     ]
    }
   ],
   "source": [
    "model.evaluate(test_images, test_labels)\n",
    "\n",
    "classifications = model.predict(test_images)\n",
    "\n",
    "print(classifications[34])\n",
    "print(test_labels[34])"
   ]
  },
  {
   "cell_type": "code",
   "execution_count": null,
   "metadata": {},
   "outputs": [],
   "source": []
  },
  {
   "cell_type": "code",
   "execution_count": null,
   "metadata": {},
   "outputs": [],
   "source": []
  },
  {
   "cell_type": "code",
   "execution_count": null,
   "metadata": {},
   "outputs": [],
   "source": []
  }
 ],
 "metadata": {
  "kernelspec": {
   "display_name": "Python 3",
   "language": "python",
   "name": "python3"
  },
  "language_info": {
   "codemirror_mode": {
    "name": "ipython",
    "version": 3
   },
   "file_extension": ".py",
   "mimetype": "text/x-python",
   "name": "python",
   "nbconvert_exporter": "python",
   "pygments_lexer": "ipython3",
   "version": "3.6.9"
  }
 },
 "nbformat": 4,
 "nbformat_minor": 4
}
