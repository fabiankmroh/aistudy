{
 "cells": [
  {
   "cell_type": "code",
   "execution_count": 15,
   "metadata": {},
   "outputs": [],
   "source": [
    "import os\n",
    "import zipfile\n",
    "import tensorflow as tf\n",
    "from tensorflow.keras.optimizers import RMSprop\n",
    "from tensorflow.keras.preprocessing.image import ImageDataGenerator"
   ]
  },
  {
   "cell_type": "code",
   "execution_count": 18,
   "metadata": {},
   "outputs": [],
   "source": [
    "base_dir = '/home/fabian/dataset/cats_and_dogs_filtered'\n",
    "train_dir = os.path.join(base_dir, 'train')\n",
    "validation_dir = os.path.join(base_dir, 'validation')"
   ]
  },
  {
   "cell_type": "code",
   "execution_count": 19,
   "metadata": {},
   "outputs": [],
   "source": [
    "train_cats_dir = os.path.join(train_dir, 'cats')\n",
    "train_dogs_dir = os.path.join(train_dir, 'dogs')\n",
    "\n",
    "validation_cats_dir = os.path.join(validation_dir, 'cats')\n",
    "validation_dogs_dir = os.path.join(validation_dir, 'dogs')"
   ]
  },
  {
   "cell_type": "code",
   "execution_count": 22,
   "metadata": {},
   "outputs": [],
   "source": [
    "model = tf.keras.models.Sequential([\n",
    "    tf.keras.layers.Conv2D(32, (3,3), activation='relu', input_shape=(150, 150, 3)),\n",
    "    tf.keras.layers.MaxPooling2D(2, 2),\n",
    "    \n",
    "    tf.keras.layers.Conv2D(64, (3,3), activation='relu'),\n",
    "    tf.keras.layers.MaxPooling2D(2,2),\n",
    "    \n",
    "    tf.keras.layers.Conv2D(128, (3,3), activation='relu'),\n",
    "    tf.keras.layers.MaxPooling2D(2,2),\n",
    "    \n",
    "    tf.keras.layers.Conv2D(128, (3,3), activation='relu'),\n",
    "    tf.keras.layers.MaxPooling2D(2,2),\n",
    "    \n",
    "    tf.keras.layers.Flatten(),\n",
    "    tf.keras.layers.Dense(512, activation='relu'),\n",
    "    tf.keras.layers.Dense(1, activation='sigmoid')\n",
    "])"
   ]
  },
  {
   "cell_type": "code",
   "execution_count": 27,
   "metadata": {},
   "outputs": [],
   "source": [
    "model.compile(loss = 'binary_crossentropy', optimizer = RMSprop(lr=0.0001), metrics = ['accuracy'])"
   ]
  },
  {
   "cell_type": "code",
   "execution_count": 31,
   "metadata": {},
   "outputs": [],
   "source": [
    "train_datagen = ImageDataGenerator(rescale = 1./255)\n",
    "validation_datagen = ImageDataGenerator(rescale = 1./255)"
   ]
  },
  {
   "cell_type": "code",
   "execution_count": 32,
   "metadata": {},
   "outputs": [
    {
     "name": "stdout",
     "output_type": "stream",
     "text": [
      "Found 2000 images belonging to 2 classes.\n"
     ]
    }
   ],
   "source": [
    "train_generator = train_datagen.flow_from_directory(\n",
    "    train_dir,\n",
    "    target_size = (150,150),\n",
    "    batch_size = 20,\n",
    "    class_mode = 'binary'\n",
    ")"
   ]
  },
  {
   "cell_type": "code",
   "execution_count": 33,
   "metadata": {},
   "outputs": [
    {
     "name": "stdout",
     "output_type": "stream",
     "text": [
      "Found 1000 images belonging to 2 classes.\n"
     ]
    }
   ],
   "source": [
    "validation_generator = validation_datagen.flow_from_directory(\n",
    "    validation_dir,\n",
    "    target_size = (150,150),\n",
    "    batch_size = 20,\n",
    "    class_mode = 'binary'\n",
    ")"
   ]
  },
  {
   "cell_type": "code",
   "execution_count": 34,
   "metadata": {},
   "outputs": [
    {
     "name": "stdout",
     "output_type": "stream",
     "text": [
      "WARNING:tensorflow:sample_weight modes were coerced from\n",
      "  ...\n",
      "    to  \n",
      "  ['...']\n",
      "WARNING:tensorflow:sample_weight modes were coerced from\n",
      "  ...\n",
      "    to  \n",
      "  ['...']\n",
      "Train for 100 steps, validate for 50 steps\n",
      "Epoch 1/100\n",
      "100/100 - 7s - loss: 0.6889 - accuracy: 0.5420 - val_loss: 0.6694 - val_accuracy: 0.5090\n",
      "Epoch 2/100\n",
      "100/100 - 6s - loss: 0.6560 - accuracy: 0.6040 - val_loss: 0.6289 - val_accuracy: 0.6510\n",
      "Epoch 3/100\n",
      "100/100 - 6s - loss: 0.6011 - accuracy: 0.6790 - val_loss: 0.5924 - val_accuracy: 0.6820\n",
      "Epoch 4/100\n",
      "100/100 - 6s - loss: 0.5626 - accuracy: 0.7130 - val_loss: 0.5756 - val_accuracy: 0.6970\n",
      "Epoch 5/100\n",
      "100/100 - 6s - loss: 0.5353 - accuracy: 0.7365 - val_loss: 0.5639 - val_accuracy: 0.7150\n",
      "Epoch 6/100\n",
      "100/100 - 6s - loss: 0.5088 - accuracy: 0.7410 - val_loss: 0.5890 - val_accuracy: 0.7010\n",
      "Epoch 7/100\n",
      "100/100 - 6s - loss: 0.4858 - accuracy: 0.7600 - val_loss: 0.5814 - val_accuracy: 0.6920\n",
      "Epoch 8/100\n",
      "100/100 - 6s - loss: 0.4537 - accuracy: 0.7840 - val_loss: 0.5458 - val_accuracy: 0.7320\n",
      "Epoch 9/100\n",
      "100/100 - 6s - loss: 0.4397 - accuracy: 0.7840 - val_loss: 0.5601 - val_accuracy: 0.7250\n",
      "Epoch 10/100\n",
      "100/100 - 6s - loss: 0.4200 - accuracy: 0.8175 - val_loss: 0.5210 - val_accuracy: 0.7430\n",
      "Epoch 11/100\n",
      "100/100 - 6s - loss: 0.3899 - accuracy: 0.8265 - val_loss: 0.6439 - val_accuracy: 0.6890\n",
      "Epoch 12/100\n",
      "100/100 - 6s - loss: 0.3718 - accuracy: 0.8400 - val_loss: 0.6416 - val_accuracy: 0.6980\n",
      "Epoch 13/100\n",
      "100/100 - 6s - loss: 0.3470 - accuracy: 0.8520 - val_loss: 0.5300 - val_accuracy: 0.7430\n",
      "Epoch 14/100\n",
      "100/100 - 6s - loss: 0.3208 - accuracy: 0.8715 - val_loss: 0.5410 - val_accuracy: 0.7550\n",
      "Epoch 15/100\n",
      "100/100 - 6s - loss: 0.2972 - accuracy: 0.8800 - val_loss: 0.6205 - val_accuracy: 0.7160\n",
      "Epoch 16/100\n",
      "100/100 - 6s - loss: 0.2757 - accuracy: 0.8905 - val_loss: 0.5576 - val_accuracy: 0.7530\n",
      "Epoch 17/100\n",
      "100/100 - 6s - loss: 0.2555 - accuracy: 0.9000 - val_loss: 0.5618 - val_accuracy: 0.7480\n",
      "Epoch 18/100\n",
      "100/100 - 6s - loss: 0.2350 - accuracy: 0.9115 - val_loss: 0.5703 - val_accuracy: 0.7560\n",
      "Epoch 19/100\n",
      "100/100 - 6s - loss: 0.2199 - accuracy: 0.9180 - val_loss: 0.5589 - val_accuracy: 0.7590\n",
      "Epoch 20/100\n",
      "100/100 - 6s - loss: 0.1986 - accuracy: 0.9310 - val_loss: 0.6005 - val_accuracy: 0.7510\n",
      "Epoch 21/100\n",
      "100/100 - 6s - loss: 0.1736 - accuracy: 0.9360 - val_loss: 0.5982 - val_accuracy: 0.7570\n",
      "Epoch 22/100\n",
      "100/100 - 6s - loss: 0.1603 - accuracy: 0.9510 - val_loss: 0.6110 - val_accuracy: 0.7550\n",
      "Epoch 23/100\n",
      "100/100 - 6s - loss: 0.1388 - accuracy: 0.9535 - val_loss: 0.6673 - val_accuracy: 0.7510\n",
      "Epoch 24/100\n",
      "100/100 - 6s - loss: 0.1203 - accuracy: 0.9635 - val_loss: 0.7235 - val_accuracy: 0.7350\n",
      "Epoch 25/100\n",
      "100/100 - 6s - loss: 0.1118 - accuracy: 0.9620 - val_loss: 0.7414 - val_accuracy: 0.7550\n",
      "Epoch 26/100\n",
      "100/100 - 6s - loss: 0.0981 - accuracy: 0.9665 - val_loss: 0.7058 - val_accuracy: 0.7450\n",
      "Epoch 27/100\n",
      "100/100 - 6s - loss: 0.0880 - accuracy: 0.9750 - val_loss: 0.7335 - val_accuracy: 0.7600\n",
      "Epoch 28/100\n",
      "100/100 - 6s - loss: 0.0781 - accuracy: 0.9750 - val_loss: 0.7397 - val_accuracy: 0.7570\n",
      "Epoch 29/100\n",
      "100/100 - 6s - loss: 0.0699 - accuracy: 0.9770 - val_loss: 0.8386 - val_accuracy: 0.7360\n",
      "Epoch 30/100\n",
      "100/100 - 6s - loss: 0.0552 - accuracy: 0.9870 - val_loss: 0.8391 - val_accuracy: 0.7470\n",
      "Epoch 31/100\n",
      "100/100 - 6s - loss: 0.0542 - accuracy: 0.9850 - val_loss: 0.8364 - val_accuracy: 0.7580\n",
      "Epoch 32/100\n",
      "100/100 - 6s - loss: 0.0419 - accuracy: 0.9900 - val_loss: 0.8669 - val_accuracy: 0.7500\n",
      "Epoch 33/100\n",
      "100/100 - 6s - loss: 0.0384 - accuracy: 0.9890 - val_loss: 0.9312 - val_accuracy: 0.7340\n",
      "Epoch 34/100\n",
      "100/100 - 6s - loss: 0.0434 - accuracy: 0.9905 - val_loss: 0.9770 - val_accuracy: 0.7460\n",
      "Epoch 35/100\n",
      "100/100 - 6s - loss: 0.0302 - accuracy: 0.9910 - val_loss: 0.9197 - val_accuracy: 0.7580\n",
      "Epoch 36/100\n",
      "100/100 - 6s - loss: 0.0279 - accuracy: 0.9925 - val_loss: 0.9816 - val_accuracy: 0.7470\n",
      "Epoch 37/100\n",
      "100/100 - 6s - loss: 0.0298 - accuracy: 0.9910 - val_loss: 1.0250 - val_accuracy: 0.7480\n",
      "Epoch 38/100\n",
      "100/100 - 6s - loss: 0.0169 - accuracy: 0.9975 - val_loss: 1.1935 - val_accuracy: 0.7300\n",
      "Epoch 39/100\n",
      "100/100 - 6s - loss: 0.0192 - accuracy: 0.9945 - val_loss: 1.0688 - val_accuracy: 0.7330\n",
      "Epoch 40/100\n",
      "100/100 - 6s - loss: 0.0163 - accuracy: 0.9965 - val_loss: 1.1207 - val_accuracy: 0.7510\n",
      "Epoch 41/100\n",
      "100/100 - 6s - loss: 0.0144 - accuracy: 0.9960 - val_loss: 1.1693 - val_accuracy: 0.7440\n",
      "Epoch 42/100\n",
      "100/100 - 6s - loss: 0.0145 - accuracy: 0.9975 - val_loss: 1.3874 - val_accuracy: 0.7420\n",
      "Epoch 43/100\n",
      "100/100 - 6s - loss: 0.0191 - accuracy: 0.9965 - val_loss: 1.2797 - val_accuracy: 0.7470\n",
      "Epoch 44/100\n",
      "100/100 - 6s - loss: 0.0074 - accuracy: 0.9980 - val_loss: 1.2603 - val_accuracy: 0.7520\n",
      "Epoch 45/100\n",
      "100/100 - 6s - loss: 0.0172 - accuracy: 0.9945 - val_loss: 1.3121 - val_accuracy: 0.7410\n",
      "Epoch 46/100\n",
      "100/100 - 6s - loss: 0.0113 - accuracy: 0.9970 - val_loss: 1.3300 - val_accuracy: 0.7540\n",
      "Epoch 47/100\n",
      "100/100 - 6s - loss: 0.0089 - accuracy: 0.9970 - val_loss: 1.3669 - val_accuracy: 0.7590\n",
      "Epoch 48/100\n",
      "100/100 - 6s - loss: 0.0085 - accuracy: 0.9980 - val_loss: 1.3675 - val_accuracy: 0.7520\n",
      "Epoch 49/100\n",
      "100/100 - 6s - loss: 0.0152 - accuracy: 0.9955 - val_loss: 1.4786 - val_accuracy: 0.7450\n",
      "Epoch 50/100\n",
      "100/100 - 6s - loss: 0.0073 - accuracy: 0.9975 - val_loss: 1.4132 - val_accuracy: 0.7440\n",
      "Epoch 51/100\n",
      "100/100 - 6s - loss: 0.0073 - accuracy: 0.9975 - val_loss: 1.6331 - val_accuracy: 0.7360\n",
      "Epoch 52/100\n",
      "100/100 - 6s - loss: 0.0114 - accuracy: 0.9975 - val_loss: 2.5076 - val_accuracy: 0.7010\n",
      "Epoch 53/100\n",
      "100/100 - 6s - loss: 0.0079 - accuracy: 0.9965 - val_loss: 2.1204 - val_accuracy: 0.7030\n",
      "Epoch 54/100\n",
      "100/100 - 6s - loss: 0.0118 - accuracy: 0.9960 - val_loss: 1.5409 - val_accuracy: 0.7470\n",
      "Epoch 55/100\n",
      "100/100 - 6s - loss: 0.0106 - accuracy: 0.9970 - val_loss: 1.5316 - val_accuracy: 0.7540\n",
      "Epoch 56/100\n",
      "100/100 - 6s - loss: 0.0058 - accuracy: 0.9980 - val_loss: 1.6283 - val_accuracy: 0.7470\n",
      "Epoch 57/100\n",
      "100/100 - 6s - loss: 0.0083 - accuracy: 0.9970 - val_loss: 1.5963 - val_accuracy: 0.7430\n",
      "Epoch 58/100\n",
      "100/100 - 6s - loss: 0.0083 - accuracy: 0.9975 - val_loss: 1.5563 - val_accuracy: 0.7560\n",
      "Epoch 59/100\n",
      "100/100 - 6s - loss: 0.0046 - accuracy: 0.9980 - val_loss: 1.6041 - val_accuracy: 0.7540\n",
      "Epoch 60/100\n",
      "100/100 - 6s - loss: 0.0100 - accuracy: 0.9960 - val_loss: 1.6090 - val_accuracy: 0.7530\n",
      "Epoch 61/100\n",
      "100/100 - 6s - loss: 0.0041 - accuracy: 0.9990 - val_loss: 1.6561 - val_accuracy: 0.7500\n",
      "Epoch 62/100\n",
      "100/100 - 6s - loss: 0.0058 - accuracy: 0.9985 - val_loss: 1.7371 - val_accuracy: 0.7510\n",
      "Epoch 63/100\n",
      "100/100 - 6s - loss: 0.0098 - accuracy: 0.9965 - val_loss: 1.6239 - val_accuracy: 0.7510\n",
      "Epoch 64/100\n",
      "100/100 - 6s - loss: 0.0173 - accuracy: 0.9960 - val_loss: 1.6580 - val_accuracy: 0.7500\n",
      "Epoch 65/100\n",
      "100/100 - 6s - loss: 0.0066 - accuracy: 0.9980 - val_loss: 1.9058 - val_accuracy: 0.7400\n",
      "Epoch 66/100\n",
      "100/100 - 6s - loss: 0.0190 - accuracy: 0.9975 - val_loss: 1.9665 - val_accuracy: 0.7430\n",
      "Epoch 67/100\n",
      "100/100 - 6s - loss: 0.0012 - accuracy: 0.9995 - val_loss: 1.7408 - val_accuracy: 0.7490\n",
      "Epoch 68/100\n",
      "100/100 - 6s - loss: 0.0049 - accuracy: 0.9985 - val_loss: 1.7751 - val_accuracy: 0.7550\n",
      "Epoch 69/100\n",
      "100/100 - 6s - loss: 0.0040 - accuracy: 0.9985 - val_loss: 1.8043 - val_accuracy: 0.7460\n",
      "Epoch 70/100\n",
      "100/100 - 6s - loss: 0.0048 - accuracy: 0.9985 - val_loss: 1.7729 - val_accuracy: 0.7590\n",
      "Epoch 71/100\n",
      "100/100 - 6s - loss: 0.0026 - accuracy: 0.9995 - val_loss: 1.7835 - val_accuracy: 0.7530\n",
      "Epoch 72/100\n",
      "100/100 - 6s - loss: 0.0093 - accuracy: 0.9980 - val_loss: 1.7827 - val_accuracy: 0.7520\n",
      "Epoch 73/100\n",
      "100/100 - 6s - loss: 0.0025 - accuracy: 0.9985 - val_loss: 1.9301 - val_accuracy: 0.7510\n",
      "Epoch 74/100\n",
      "100/100 - 6s - loss: 0.0118 - accuracy: 0.9985 - val_loss: 1.9406 - val_accuracy: 0.7470\n",
      "Epoch 75/100\n",
      "100/100 - 6s - loss: 5.7842e-04 - accuracy: 1.0000 - val_loss: 2.0609 - val_accuracy: 0.7480\n",
      "Epoch 76/100\n",
      "100/100 - 6s - loss: 0.0116 - accuracy: 0.9960 - val_loss: 2.0091 - val_accuracy: 0.7410\n",
      "Epoch 77/100\n",
      "100/100 - 6s - loss: 1.5232e-04 - accuracy: 1.0000 - val_loss: 2.0698 - val_accuracy: 0.7520\n",
      "Epoch 78/100\n",
      "100/100 - 6s - loss: 0.0078 - accuracy: 0.9970 - val_loss: 2.0136 - val_accuracy: 0.7490\n",
      "Epoch 79/100\n",
      "100/100 - 6s - loss: 0.0041 - accuracy: 0.9995 - val_loss: 1.9311 - val_accuracy: 0.7520\n"
     ]
    },
    {
     "name": "stdout",
     "output_type": "stream",
     "text": [
      "Epoch 80/100\n",
      "100/100 - 6s - loss: 0.0144 - accuracy: 0.9970 - val_loss: 1.9599 - val_accuracy: 0.7520\n",
      "Epoch 81/100\n",
      "100/100 - 6s - loss: 0.0093 - accuracy: 0.9975 - val_loss: 2.0995 - val_accuracy: 0.7500\n",
      "Epoch 82/100\n",
      "100/100 - 6s - loss: 3.1494e-04 - accuracy: 1.0000 - val_loss: 2.1148 - val_accuracy: 0.7560\n",
      "Epoch 83/100\n",
      "100/100 - 6s - loss: 0.0058 - accuracy: 0.9980 - val_loss: 2.0778 - val_accuracy: 0.7550\n",
      "Epoch 84/100\n",
      "100/100 - 6s - loss: 6.9696e-05 - accuracy: 1.0000 - val_loss: 2.1448 - val_accuracy: 0.7590\n",
      "Epoch 85/100\n",
      "100/100 - 6s - loss: 0.0085 - accuracy: 0.9970 - val_loss: 2.1775 - val_accuracy: 0.7590\n",
      "Epoch 86/100\n",
      "100/100 - 6s - loss: 0.0031 - accuracy: 0.9985 - val_loss: 2.2119 - val_accuracy: 0.7520\n",
      "Epoch 87/100\n",
      "100/100 - 6s - loss: 0.0052 - accuracy: 0.9985 - val_loss: 2.0163 - val_accuracy: 0.7560\n",
      "Epoch 88/100\n",
      "100/100 - 6s - loss: 2.1552e-05 - accuracy: 1.0000 - val_loss: 2.1638 - val_accuracy: 0.7550\n",
      "Epoch 89/100\n",
      "100/100 - 6s - loss: 0.0084 - accuracy: 0.9980 - val_loss: 2.2130 - val_accuracy: 0.7440\n",
      "Epoch 90/100\n",
      "100/100 - 6s - loss: 0.0043 - accuracy: 0.9990 - val_loss: 2.2587 - val_accuracy: 0.7480\n",
      "Epoch 91/100\n",
      "100/100 - 6s - loss: 2.1763e-05 - accuracy: 1.0000 - val_loss: 2.3194 - val_accuracy: 0.7560\n",
      "Epoch 92/100\n",
      "100/100 - 6s - loss: 0.0192 - accuracy: 0.9970 - val_loss: 2.1930 - val_accuracy: 0.7530\n",
      "Epoch 93/100\n",
      "100/100 - 6s - loss: 0.0130 - accuracy: 0.9985 - val_loss: 2.4244 - val_accuracy: 0.7530\n",
      "Epoch 94/100\n",
      "100/100 - 6s - loss: 5.3194e-05 - accuracy: 1.0000 - val_loss: 2.3466 - val_accuracy: 0.7530\n",
      "Epoch 95/100\n",
      "100/100 - 6s - loss: 0.0061 - accuracy: 0.9975 - val_loss: 2.2081 - val_accuracy: 0.7440\n",
      "Epoch 96/100\n",
      "100/100 - 6s - loss: 0.0040 - accuracy: 0.9985 - val_loss: 2.3415 - val_accuracy: 0.7490\n",
      "Epoch 97/100\n",
      "100/100 - 6s - loss: 1.7316e-04 - accuracy: 1.0000 - val_loss: 2.3438 - val_accuracy: 0.7540\n",
      "Epoch 98/100\n",
      "100/100 - 6s - loss: 0.0024 - accuracy: 0.9990 - val_loss: 2.3167 - val_accuracy: 0.7520\n",
      "Epoch 99/100\n",
      "100/100 - 6s - loss: 0.0057 - accuracy: 0.9985 - val_loss: 2.2430 - val_accuracy: 0.7490\n",
      "Epoch 100/100\n",
      "100/100 - 6s - loss: 1.2655e-04 - accuracy: 1.0000 - val_loss: 4.3219 - val_accuracy: 0.6910\n"
     ]
    }
   ],
   "source": [
    "history = model.fit(\n",
    "    train_generator,\n",
    "    steps_per_epoch = 100,\n",
    "    epochs = 100,\n",
    "    validation_data = validation_generator,\n",
    "    validation_steps = 50,\n",
    "    verbose = 2\n",
    ")"
   ]
  },
  {
   "cell_type": "code",
   "execution_count": 37,
   "metadata": {},
   "outputs": [
    {
     "data": {
      "image/png": "[encoded data removed]",
      "text/plain": [
       "<Figure size 432x288 with 1 Axes>"
      ]
     },
     "metadata": {
      "needs_background": "light"
     },
     "output_type": "display_data"
    }
   ],
   "source": [
    "import matplotlib.pyplot as plt\n",
    "\n",
    "plt.plot(history.history['accuracy'])\n",
    "plt.plot(history.history['val_accuracy'])\n",
    "plt.xlabel('Epoch')\n",
    "plt.ylabel('Accuracy')\n",
    "plt.legend(['Train', 'Validation'], loc = 'upper left')\n",
    "plt.show()"
   ]
  },
  {
   "cell_type": "code",
   "execution_count": 38,
   "metadata": {},
   "outputs": [
    {
     "data": {
      "image/png": "[encoded data removed]",
      "text/plain": [
       "<Figure size 432x288 with 1 Axes>"
      ]
     },
     "metadata": {
      "needs_background": "light"
     },
     "output_type": "display_data"
    }
   ],
   "source": [
    "plt.plot(history.history['loss'])\n",
    "plt.plot(history.history['val_loss'])\n",
    "plt.xlabel('Epoch')\n",
    "plt.ylabel('Loss')\n",
    "plt.legend(['Train', 'Validation'], loc = 'upper left')\n",
    "plt.show()"
   ]
  },
  {
   "cell_type": "code",
   "execution_count": null,
   "metadata": {},
   "outputs": [],
   "source": []
  }
 ],
 "metadata": {
  "kernelspec": {
   "display_name": "Python 3",
   "language": "python",
   "name": "python3"
  },
  "language_info": {
   "codemirror_mode": {
    "name": "ipython",
    "version": 3
   },
   "file_extension": ".py",
   "mimetype": "text/x-python",
   "name": "python",
   "nbconvert_exporter": "python",
   "pygments_lexer": "ipython3",
   "version": "3.6.9"
  }
 },
 "nbformat": 4,
 "nbformat_minor": 4
}
